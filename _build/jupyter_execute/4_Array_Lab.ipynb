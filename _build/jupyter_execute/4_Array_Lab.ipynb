{
 "cells": [
  {
   "cell_type": "markdown",
   "metadata": {
    "id": "5vW_ps6ZqZVe"
   },
   "source": [
    "# Set Up"
   ]
  },
  {
   "cell_type": "markdown",
   "metadata": {
    "id": "axhnjGX3kP8m"
   },
   "source": [
    "## Link Google Drive to Google Colab"
   ]
  },
  {
   "cell_type": "code",
   "execution_count": 1,
   "metadata": {
    "colab": {
     "base_uri": "https://localhost:8080/"
    },
    "executionInfo": {
     "elapsed": 27924,
     "status": "ok",
     "timestamp": 1742882578052,
     "user": {
      "displayName": "Ewha Biostat",
      "userId": "08955403781798893820"
     },
     "user_tz": -540
    },
    "id": "39UxiFashW_R",
    "outputId": "47024c05-8676-441d-f7be-37a7ba4495b9"
   },
   "outputs": [
    {
     "ename": "ModuleNotFoundError",
     "evalue": "No module named 'google'",
     "output_type": "error",
     "traceback": [
      "\u001b[1;31m---------------------------------------------------------------------------\u001b[0m",
      "\u001b[1;31mModuleNotFoundError\u001b[0m                       Traceback (most recent call last)",
      "Cell \u001b[1;32mIn[1], line 1\u001b[0m\n\u001b[1;32m----> 1\u001b[0m \u001b[38;5;28;01mfrom\u001b[39;00m\u001b[38;5;250m \u001b[39m\u001b[38;5;21;01mgoogle\u001b[39;00m\u001b[38;5;21;01m.\u001b[39;00m\u001b[38;5;21;01mcolab\u001b[39;00m\u001b[38;5;250m \u001b[39m\u001b[38;5;28;01mimport\u001b[39;00m drive\n\u001b[0;32m      2\u001b[0m drive\u001b[38;5;241m.\u001b[39mmount(\u001b[38;5;124m'\u001b[39m\u001b[38;5;124m/content/drive\u001b[39m\u001b[38;5;124m'\u001b[39m)\n",
      "\u001b[1;31mModuleNotFoundError\u001b[0m: No module named 'google'"
     ]
    }
   ],
   "source": [
    "from google.colab import drive\n",
    "drive.mount('/content/drive')"
   ]
  },
  {
   "cell_type": "markdown",
   "metadata": {
    "id": "k-sTHlVBhDYd"
   },
   "source": [
    "## Modify sys.path to Import External Modules"
   ]
  },
  {
   "cell_type": "markdown",
   "metadata": {
    "id": "ofwQQRxSi9qQ"
   },
   "source": []
  },
  {
   "cell_type": "code",
   "execution_count": null,
   "metadata": {
    "id": "kmVGyNeRhDQ3"
   },
   "outputs": [],
   "source": [
    "import sys\n",
    "sys.path.append(\"/content/drive/MyDrive/2025_Teaching/2025_Data_Structures/Code\")"
   ]
  },
  {
   "cell_type": "markdown",
   "metadata": {
    "id": "hFrqK5fC550O"
   },
   "source": [
    "# Import Array.py Module"
   ]
  },
  {
   "cell_type": "code",
   "execution_count": null,
   "metadata": {
    "colab": {
     "base_uri": "https://localhost:8080/"
    },
    "executionInfo": {
     "elapsed": 12,
     "status": "ok",
     "timestamp": 1742886185352,
     "user": {
      "displayName": "Ewha Biostat",
      "userId": "08955403781798893820"
     },
     "user_tz": -540
    },
    "id": "FiusF9GQ55iB",
    "outputId": "e97b58b2-695f-43dd-d549-4ee9e5176b5e"
   },
   "outputs": [
    {
     "name": "stdout",
     "output_type": "stream",
     "text": [
      "Original array: [1 2 3 4 5]\n",
      "After insertion: [1 2 3 4 5 6]\n",
      "Element found at position: 4\n",
      "After removal: [1 2 3 4 6]\n"
     ]
    },
    {
     "data": {
      "text/plain": [
       "2"
      ]
     },
     "execution_count": 7,
     "metadata": {},
     "output_type": "execute_result"
    }
   ],
   "source": [
    "# Import the Array class from the Array.py file\n",
    "# from Array import *\n",
    "from Array import MyArray\n",
    "\n",
    "# Create an instance of the Array class\n",
    "arr = MyArray([1, 2, 3, 4, 5])\n",
    "\n",
    "# Print the original array\n",
    "print(\"Original array:\", arr.array)\n",
    "\n",
    "# Insert 6 at the last index (after the last element)\n",
    "arr.myInsert(6, len(arr.array))  # Inserts 6 at the end\n",
    "print(\"After insertion:\", arr.array)\n",
    "\n",
    "# Remove element 5 from the array\n",
    "arr.myRemove(5)  # Removes element 5 from the array\n",
    "print(\"After removal:\", arr.array)\n",
    "\n",
    "# Find index for element 3\n",
    "arr.myIndex(3)"
   ]
  },
  {
   "cell_type": "markdown",
   "metadata": {
    "id": "p3b3bDBni-gY"
   },
   "source": [
    "# Example 1: Time Complexity\n",
    "\n",
    "What is the time complexity of access, search, insertion, deletion of array data structure? Explain why.\n"
   ]
  },
  {
   "cell_type": "code",
   "execution_count": null,
   "metadata": {
    "id": "9ppWH1oJnAxE"
   },
   "outputs": [],
   "source": [
    "import numpy as np\n",
    "\n",
    "class MyArray:\n",
    "    def __init__(self, input_list):\n",
    "        self.array = np.array(input_list, dtype=\"i\")\n",
    "\n",
    "    def myInsert(self, x, i):\n",
    "        new_array = np.empty(len(self.array) + 1, dtype=\"i\")\n",
    "        new_array[:len(self.array)] = self.array\n",
    "        n = len(new_array)\n",
    "\n",
    "        # Shift elements to the right\n",
    "        for idx in range(n - 2, i - 1, -1):\n",
    "            new_array[idx + 1] = new_array[idx]\n",
    "\n",
    "        new_array[i] = x\n",
    "        self.array = new_array  # Update self.array\n",
    "        return self.array\n",
    "\n",
    "    def myIndex(self, x):\n",
    "        n = len(self.array)\n",
    "        for idx in range(n):\n",
    "            if self.array[idx] == x:\n",
    "                return idx\n",
    "        return -1  # If the key is not found\n",
    "\n",
    "    def myDelete(self, i):\n",
    "        n = len(self.array)\n",
    "\n",
    "        # Shift elements to the left\n",
    "        for idx in range(i + 1, n):\n",
    "            self.array[idx - 1] = self.array[idx]\n",
    "\n",
    "        self.array = self.array[:n - 1]  # Update self.array\n",
    "        return self.array\n",
    "\n",
    "    def myRemove(self, x):\n",
    "        i = self.myIndex(x)\n",
    "        if i == -1:\n",
    "            print(\"Element not found.\")\n",
    "            return self.array\n",
    "\n",
    "        print(\"Element found at position:\", i)\n",
    "        self.myDelete(i)\n",
    "        return self.array"
   ]
  },
  {
   "cell_type": "markdown",
   "metadata": {
    "id": "BiqXuIWY_kwM"
   },
   "source": [
    "# Example 2\n",
    "\n",
    "Explore and compare the differences between Python lists and array data structures. Use online resources and feel free to utilize generative AI chatbots to aid in your understanding. Consider the following aspects in your exploration:\n",
    "\n",
    "* **Storage structure**: How do Python lists and arrays store data in memory? Are they contiguous or non-contiguous?\n",
    "\n",
    "* **Performance**: How do their performance characteristics differ for various operations such as indexing, insertion, and deletion?\n",
    "\n",
    "* **Type of elements**: Are Python lists and arrays restricted to a single data type, or can they store elements of mixed types? How does this affect performance?\n",
    "\n",
    "* **Dynamic vs Static**: How do Python lists (dynamic arrays) and static arrays differ in terms of resizing and memory allocation?\n",
    "\n",
    "* **Access and manipulation**: How do access and manipulation operations differ between Python lists and arrays?\n"
   ]
  },
  {
   "cell_type": "code",
   "execution_count": null,
   "metadata": {
    "id": "SFS0ebkT_knM"
   },
   "outputs": [],
   "source": []
  },
  {
   "cell_type": "markdown",
   "metadata": {
    "id": "xyX0RlbqAQqA"
   },
   "source": [
    "\n",
    "# Example 3\n",
    "\n",
    "Create a function that output unique elements in a given array. Unique means distinct elements. What is the time complexity of the algorithm?\n"
   ]
  },
  {
   "cell_type": "code",
   "execution_count": null,
   "metadata": {
    "colab": {
     "base_uri": "https://localhost:8080/"
    },
    "executionInfo": {
     "elapsed": 6,
     "status": "ok",
     "timestamp": 1742886189800,
     "user": {
      "displayName": "Ewha Biostat",
      "userId": "08955403781798893820"
     },
     "user_tz": -540
    },
    "id": "P0NSbGtdnrSm",
    "outputId": "fabdd95c-3dc2-4763-fe17-c4c96a299c12"
   },
   "outputs": [
    {
     "data": {
      "text/plain": [
       "[1, 2, 3, 4, 5, 6, 7]"
      ]
     },
     "execution_count": 8,
     "metadata": {},
     "output_type": "execute_result"
    }
   ],
   "source": [
    "# def unique(arr):\n",
    "\n",
    "a = [1, 2, 2, 3, 4, 5, 5, 6, 7, 7]\n",
    "unique(a)\n"
   ]
  },
  {
   "cell_type": "markdown",
   "metadata": {
    "id": "tuQ1MsZFg9Zv"
   },
   "source": [
    "# Example 4\n",
    "\n",
    "Create a function that returns how many number of elements are odd and even elements in the array.\n"
   ]
  },
  {
   "cell_type": "code",
   "execution_count": null,
   "metadata": {
    "id": "CjEEiGleg9Cz"
   },
   "outputs": [],
   "source": [
    "# def EvenOdd(arr):\n",
    "\n",
    "a = [1, 2, 2, 3, 4, 5, 5, 6, 7, 7]\n",
    "EvenOdd(a)"
   ]
  }
 ],
 "metadata": {
  "colab": {
   "authorship_tag": "ABX9TyNhC5Iuo4ymriIuWS1Sxjih",
   "provenance": [],
   "toc_visible": true
  },
  "kernelspec": {
   "display_name": "Python 3",
   "name": "python3"
  },
  "language_info": {
   "codemirror_mode": {
    "name": "ipython",
    "version": 3
   },
   "file_extension": ".py",
   "mimetype": "text/x-python",
   "name": "python",
   "nbconvert_exporter": "python",
   "pygments_lexer": "ipython3",
   "version": "3.10.11"
  }
 },
 "nbformat": 4,
 "nbformat_minor": 0
}